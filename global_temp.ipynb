import pandas as pd

df = pd.read_csv('https://github.com/pennywa/temperature-dashboard/raw/93f6acb39dba3944da20fd2ab9d773c583b9efef/combined_temperature.csv')
df

df.head()
